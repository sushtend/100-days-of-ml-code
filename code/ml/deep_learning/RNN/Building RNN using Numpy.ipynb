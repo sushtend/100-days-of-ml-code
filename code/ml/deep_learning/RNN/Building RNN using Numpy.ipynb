{
 "cells": [
  {
   "cell_type": "code",
   "execution_count": null,
   "metadata": {},
   "outputs": [],
   "source": []
  },
  {
   "cell_type": "code",
   "execution_count": 3,
   "metadata": {},
   "outputs": [],
   "source": [
    "import numpy as np\n",
    "from rnn_utils import *"
   ]
  },
  {
   "cell_type": "code",
   "execution_count": 4,
   "metadata": {},
   "outputs": [],
   "source": [
    "def rnn_cell_forward(xt,a_prev,parameters):\n",
    "    Wax = parameters[\"Wax\"]\n",
    "    Waa = parameters[\"Waa\"]\n",
    "    Wya = parameters[\"Wya\"]\n",
    "    ba = parameters[\"ba\"]\n",
    "    by = parameters[\"by\"]\n",
    "    \n",
    "    a_next = np.tanh(np.dot(Waa,a_prev)+np.dot(Wax,xt)+ba)\n",
    "    yt_pred = softmax(np.dot(Wya,a_next)+by)\n",
    "    \n",
    "    cache = (a_next, a_prev, xt, parameters)\n",
    "    \n",
    "    return a_next,yt_pred,cache"
   ]
  },
  {
   "cell_type": "code",
   "execution_count": 5,
   "metadata": {},
   "outputs": [
    {
     "name": "stdout",
     "output_type": "stream",
     "text": [
      "a_next[4] = \n",
      " [ 0.59584544  0.18141802  0.61311866  0.99808218  0.85016201  0.99980978\n",
      " -0.18887155  0.99815551  0.6531151   0.82872037]\n",
      "a_next.shape = \n",
      " (5, 10)\n",
      "yt_pred[1] =\n",
      " [0.9888161  0.01682021 0.21140899 0.36817467 0.98988387 0.88945212\n",
      " 0.36920224 0.9966312  0.9982559  0.17746526]\n",
      "yt_pred.shape = \n",
      " (2, 10)\n"
     ]
    }
   ],
   "source": [
    "np.random.seed(1)\n",
    "xt_tmp = np.random.randn(3,10)\n",
    "a_prev_tmp = np.random.randn(5,10)\n",
    "parameters_tmp = {}\n",
    "parameters_tmp['Waa'] = np.random.randn(5,5)\n",
    "parameters_tmp['Wax'] = np.random.randn(5,3)\n",
    "parameters_tmp['Wya'] = np.random.randn(2,5)\n",
    "parameters_tmp['ba'] = np.random.randn(5,1)\n",
    "parameters_tmp['by'] = np.random.randn(2,1)\n",
    "\n",
    "a_next_tmp, yt_pred_tmp, cache_tmp = rnn_cell_forward(xt_tmp, a_prev_tmp, parameters_tmp)\n",
    "print(\"a_next[4] = \\n\", a_next_tmp[4])\n",
    "print(\"a_next.shape = \\n\", a_next_tmp.shape)\n",
    "print(\"yt_pred[1] =\\n\", yt_pred_tmp[1])\n",
    "print(\"yt_pred.shape = \\n\", yt_pred_tmp.shape)"
   ]
  },
  {
   "cell_type": "code",
   "execution_count": 6,
   "metadata": {},
   "outputs": [
    {
     "data": {
      "text/plain": [
       "array([[-1.14434139,  0.80186103,  0.0465673 , -0.18656977, -0.10174587,\n",
       "         0.86888616,  0.75041164,  0.52946532,  0.13770121,  0.07782113],\n",
       "       [ 0.61838026,  0.23249456,  0.68255141, -0.31011677, -2.43483776,\n",
       "         1.0388246 ,  2.18697965,  0.44136444, -0.10015523, -0.13644474],\n",
       "       [-0.11905419,  0.01740941, -1.12201873, -0.51709446, -0.99702683,\n",
       "         0.24879916, -0.29664115,  0.49521132, -0.17470316,  0.98633519]])"
      ]
     },
     "execution_count": 6,
     "metadata": {},
     "output_type": "execute_result"
    }
   ],
   "source": [
    "np.random.randn(3,10)"
   ]
  },
  {
   "cell_type": "code",
   "execution_count": 7,
   "metadata": {},
   "outputs": [],
   "source": [
    "def rnn_forward(x, a0, parameters):\n",
    "    caches = []\n",
    "    \n",
    "    n_x,m,T_x = x.shape\n",
    "    n_y,n_a = parameters[\"Wya\"].shape\n",
    "    \n",
    "    a = np.zeros((n_a,m,T_x))\n",
    "    y_pred = np.zeros((n_y,m,T_x))\n",
    "    \n",
    "    a_next = a0\n",
    "    \n",
    "    for t in range (T_x):\n",
    "        \n",
    "        a_next, yt_pred, cache = rnn_cell_forward(x[:,:,t], a_next, parameters)\n",
    "        a[:,:,t] = a_next\n",
    "        y_pred[:,:,t] = yt_pred\n",
    "        caches.append(cache)\n",
    "        \n",
    "    caches = (caches, x)\n",
    "    \n",
    "    return a, y_pred, caches\n",
    "        "
   ]
  },
  {
   "cell_type": "code",
   "execution_count": 8,
   "metadata": {},
   "outputs": [
    {
     "name": "stdout",
     "output_type": "stream",
     "text": [
      "a[4][1] =  [-0.99999375  0.77911235 -0.99861469 -0.99833267]\n",
      "a.shape =  (5, 10, 4)\n",
      "y_pred[1][3] = [0.79560373 0.86224861 0.11118257 0.81515947]\n",
      "y_pred.shape =  (2, 10, 4)\n",
      "caches[1][1][3] = [-1.1425182  -0.34934272 -0.20889423  0.58662319]\n",
      "len(caches) =  2\n"
     ]
    }
   ],
   "source": [
    "np.random.seed(1)\n",
    "x = np.random.randn(3,10,4)\n",
    "a0 = np.random.randn(5,10)\n",
    "Waa = np.random.randn(5,5)\n",
    "Wax = np.random.randn(5,3)\n",
    "Wya = np.random.randn(2,5)\n",
    "ba = np.random.randn(5,1)\n",
    "by = np.random.randn(2,1)\n",
    "parameters = {\"Waa\": Waa, \"Wax\": Wax, \"Wya\": Wya, \"ba\": ba, \"by\": by}\n",
    "\n",
    "a, y_pred, caches = rnn_forward(x, a0, parameters)\n",
    "print(\"a[4][1] = \", a[4][1])\n",
    "print(\"a.shape = \", a.shape)\n",
    "print(\"y_pred[1][3] =\", y_pred[1][3])\n",
    "print(\"y_pred.shape = \", y_pred.shape)\n",
    "print(\"caches[1][1][3] =\", caches[1][1][3])\n",
    "print(\"len(caches) = \", len(caches))"
   ]
  },
  {
   "cell_type": "code",
   "execution_count": 9,
   "metadata": {},
   "outputs": [
    {
     "data": {
      "text/plain": [
       "array([[[9.99129368e-01, 8.90772592e-01, 7.04206315e-01, 9.19730000e-01],\n",
       "        [9.99394165e-01, 3.26947813e-01, 9.98789616e-01, 9.88219303e-01],\n",
       "        [9.94277463e-01, 9.95999371e-01, 9.97939529e-01, 2.76624090e-01],\n",
       "        [2.04396268e-01, 1.37751394e-01, 8.88817431e-01, 1.84840534e-01],\n",
       "        [7.42084036e-01, 4.16030656e-01, 5.96207274e-02, 9.56452021e-01],\n",
       "        [3.43688280e-01, 9.98867515e-01, 9.89766361e-01, 8.99137589e-01],\n",
       "        [9.39252776e-01, 7.07585502e-01, 8.85151052e-01, 3.34768716e-01],\n",
       "        [9.35504646e-01, 9.85731426e-01, 9.37994449e-01, 6.45782938e-01],\n",
       "        [6.39183022e-01, 2.35008185e-02, 8.20174082e-01, 3.42431253e-01],\n",
       "        [6.07750160e-01, 8.98666718e-01, 9.99114486e-01, 9.90187623e-01]],\n",
       "\n",
       "       [[8.70631878e-04, 1.09227408e-01, 2.95793685e-01, 8.02699998e-02],\n",
       "        [6.05834882e-04, 6.73052187e-01, 1.21038427e-03, 1.17806974e-02],\n",
       "        [5.72253732e-03, 4.00062909e-03, 2.06047094e-03, 7.23375910e-01],\n",
       "        [7.95603732e-01, 8.62248606e-01, 1.11182569e-01, 8.15159466e-01],\n",
       "        [2.57915964e-01, 5.83969344e-01, 9.40379273e-01, 4.35479788e-02],\n",
       "        [6.56311720e-01, 1.13248528e-03, 1.02336394e-02, 1.00862411e-01],\n",
       "        [6.07472236e-02, 2.92414498e-01, 1.14848948e-01, 6.65231284e-01],\n",
       "        [6.44953539e-02, 1.42685743e-02, 6.20055512e-02, 3.54217062e-01],\n",
       "        [3.60816978e-01, 9.76499181e-01, 1.79825918e-01, 6.57568747e-01],\n",
       "        [3.92249840e-01, 1.01333282e-01, 8.85513795e-04, 9.81237745e-03]]])"
      ]
     },
     "execution_count": 9,
     "metadata": {},
     "output_type": "execute_result"
    }
   ],
   "source": [
    "y_pred"
   ]
  },
  {
   "cell_type": "code",
   "execution_count": 23,
   "metadata": {},
   "outputs": [],
   "source": [
    "x = np.random.randn(2,3,4)"
   ]
  },
  {
   "cell_type": "code",
   "execution_count": 24,
   "metadata": {},
   "outputs": [
    {
     "data": {
      "text/plain": [
       "array([[[-2.09424782, -0.22876583,  1.61336137, -0.37480469],\n",
       "        [-0.74996962,  2.0546241 ,  0.05340954, -0.4791571 ],\n",
       "        [ 0.35016716,  0.01716473, -0.42914228,  1.20845633]],\n",
       "\n",
       "       [[ 1.1157018 ,  0.84086156, -0.10288722,  1.14690038],\n",
       "        [-0.04970258,  0.46664327,  1.03368687,  0.80884436],\n",
       "        [ 1.78975468,  0.45128402, -1.68405999, -1.1601701 ]]])"
      ]
     },
     "execution_count": 24,
     "metadata": {},
     "output_type": "execute_result"
    }
   ],
   "source": [
    "x"
   ]
  },
  {
   "cell_type": "code",
   "execution_count": 25,
   "metadata": {},
   "outputs": [
    {
     "data": {
      "text/plain": [
       "array([[ 1.61336137,  0.05340954, -0.42914228],\n",
       "       [-0.10288722,  1.03368687, -1.68405999]])"
      ]
     },
     "execution_count": 25,
     "metadata": {},
     "output_type": "execute_result"
    }
   ],
   "source": [
    "x[:,:,2]"
   ]
  },
  {
   "cell_type": "markdown",
   "metadata": {},
   "source": [
    "# Long Short-Term Memory (LSTM) network"
   ]
  },
  {
   "cell_type": "code",
   "execution_count": 26,
   "metadata": {},
   "outputs": [],
   "source": [
    "def lstm_cell_forward(xt, a_prev, c_prev, parameters):\n",
    "    \"\"\"\n",
    "    Implements a single forward step of the LSTM-cell\n",
    "    \"\"\""
   ]
  },
  {
   "cell_type": "code",
   "execution_count": null,
   "metadata": {},
   "outputs": [],
   "source": []
  }
 ],
 "metadata": {
  "kernelspec": {
   "display_name": "Python 3",
   "language": "python",
   "name": "python3"
  },
  "language_info": {
   "codemirror_mode": {
    "name": "ipython",
    "version": 3
   },
   "file_extension": ".py",
   "mimetype": "text/x-python",
   "name": "python",
   "nbconvert_exporter": "python",
   "pygments_lexer": "ipython3",
   "version": "3.7.3"
  }
 },
 "nbformat": 4,
 "nbformat_minor": 2
}
