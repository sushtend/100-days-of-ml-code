{
 "cells": [
  {
   "cell_type": "code",
   "execution_count": null,
   "metadata": {},
   "outputs": [],
   "source": []
  },
  {
   "cell_type": "code",
   "execution_count": 1,
   "metadata": {},
   "outputs": [],
   "source": [
    "import numpy as np\n",
    "from rnn_utils import *"
   ]
  },
  {
   "cell_type": "code",
   "execution_count": 4,
   "metadata": {},
   "outputs": [],
   "source": [
    "def rnn_cell_forward(xt,a_prev,parameters):\n",
    "    Wax = parameters[\"Wax\"]\n",
    "    Waa = parameters[\"Waa\"]\n",
    "    Wya = parameters[\"Wya\"]\n",
    "    ba = parameters[\"ba\"]\n",
    "    by = parameters[\"by\"]\n",
    "    \n",
    "    a_next = np.tanh(np.dot(Waa,a_prev)+np.dot(Wax,xt)+ba)\n",
    "    yt_pred = softmax(np.dot(Wya,a_next)+by)\n",
    "    \n",
    "    cache = (a_next, a_prev, xt, parameters)\n",
    "    \n",
    "    return a_next,yt_pred,cache"
   ]
  },
  {
   "cell_type": "code",
   "execution_count": 5,
   "metadata": {},
   "outputs": [
    {
     "name": "stdout",
     "output_type": "stream",
     "text": [
      "a_next[4] = \n",
      " [ 0.59584544  0.18141802  0.61311866  0.99808218  0.85016201  0.99980978\n",
      " -0.18887155  0.99815551  0.6531151   0.82872037]\n",
      "a_next.shape = \n",
      " (5, 10)\n",
      "yt_pred[1] =\n",
      " [0.9888161  0.01682021 0.21140899 0.36817467 0.98988387 0.88945212\n",
      " 0.36920224 0.9966312  0.9982559  0.17746526]\n",
      "yt_pred.shape = \n",
      " (2, 10)\n"
     ]
    }
   ],
   "source": [
    "np.random.seed(1)\n",
    "xt_tmp = np.random.randn(3,10)\n",
    "a_prev_tmp = np.random.randn(5,10)\n",
    "parameters_tmp = {}\n",
    "parameters_tmp['Waa'] = np.random.randn(5,5)\n",
    "parameters_tmp['Wax'] = np.random.randn(5,3)\n",
    "parameters_tmp['Wya'] = np.random.randn(2,5)\n",
    "parameters_tmp['ba'] = np.random.randn(5,1)\n",
    "parameters_tmp['by'] = np.random.randn(2,1)\n",
    "\n",
    "a_next_tmp, yt_pred_tmp, cache_tmp = rnn_cell_forward(xt_tmp, a_prev_tmp, parameters_tmp)\n",
    "print(\"a_next[4] = \\n\", a_next_tmp[4])\n",
    "print(\"a_next.shape = \\n\", a_next_tmp.shape)\n",
    "print(\"yt_pred[1] =\\n\", yt_pred_tmp[1])\n",
    "print(\"yt_pred.shape = \\n\", yt_pred_tmp.shape)"
   ]
  },
  {
   "cell_type": "code",
   "execution_count": 13,
   "metadata": {},
   "outputs": [
    {
     "data": {
      "text/plain": [
       "array([[-0.08601853, -0.14813658,  0.13912627, -1.90290863,  2.33014207,\n",
       "        -0.30626553, -1.45606357, -2.07490519, -0.24545321,  0.002979  ],\n",
       "       [-0.26774635, -0.40378174,  0.1572718 ,  0.33893515, -1.10423149,\n",
       "         0.7030659 , -0.32545971, -0.63974777,  0.65757628,  0.61619104],\n",
       "       [-1.0237667 ,  0.03685261, -1.22278943, -0.98510142,  1.1183585 ,\n",
       "        -0.73695489, -0.18820403, -1.21377262,  0.50470015, -1.4922319 ]])"
      ]
     },
     "execution_count": 13,
     "metadata": {},
     "output_type": "execute_result"
    }
   ],
   "source": [
    "np.random.randn(3,10)"
   ]
  },
  {
   "cell_type": "code",
   "execution_count": 17,
   "metadata": {},
   "outputs": [],
   "source": [
    "def rnn_forward(x, a0, parameters):\n",
    "    caches = []\n",
    "    \n",
    "    n_x,m,T_x = x.shape\n",
    "    n_y,n_a = parameters[\"Wya\"].shape\n",
    "    \n",
    "    a = np.zeros((n_a,m,T_x))\n",
    "    y_pred = np.zeros((n_y,m,T_x))\n",
    "    \n",
    "    a_next = a0\n",
    "    \n",
    "    for t in range (T_x):\n",
    "        \n",
    "        a_next, yt_pred, cache = rnn_cell_forward(x[:,:,t], a_next, parameters)\n",
    "        a[:,:,t] = a_next\n",
    "        y_pred[:,:,t] = yt_pred\n",
    "        caches.append(cache)\n",
    "        \n",
    "    caches = (caches, x)\n",
    "    \n",
    "    return a, y_pred, caches\n",
    "        "
   ]
  },
  {
   "cell_type": "code",
   "execution_count": 18,
   "metadata": {},
   "outputs": [
    {
     "name": "stdout",
     "output_type": "stream",
     "text": [
      "a[4][1] =  [-0.99999375  0.77911235 -0.99861469 -0.99833267]\n",
      "a.shape =  (5, 10, 4)\n",
      "y_pred[1][3] = [0.79560373 0.86224861 0.11118257 0.81515947]\n",
      "y_pred.shape =  (2, 10, 4)\n",
      "caches[1][1][3] = [-1.1425182  -0.34934272 -0.20889423  0.58662319]\n",
      "len(caches) =  2\n"
     ]
    }
   ],
   "source": [
    "np.random.seed(1)\n",
    "x = np.random.randn(3,10,4)\n",
    "a0 = np.random.randn(5,10)\n",
    "Waa = np.random.randn(5,5)\n",
    "Wax = np.random.randn(5,3)\n",
    "Wya = np.random.randn(2,5)\n",
    "ba = np.random.randn(5,1)\n",
    "by = np.random.randn(2,1)\n",
    "parameters = {\"Waa\": Waa, \"Wax\": Wax, \"Wya\": Wya, \"ba\": ba, \"by\": by}\n",
    "\n",
    "a, y_pred, caches = rnn_forward(x, a0, parameters)\n",
    "print(\"a[4][1] = \", a[4][1])\n",
    "print(\"a.shape = \", a.shape)\n",
    "print(\"y_pred[1][3] =\", y_pred[1][3])\n",
    "print(\"y_pred.shape = \", y_pred.shape)\n",
    "print(\"caches[1][1][3] =\", caches[1][1][3])\n",
    "print(\"len(caches) = \", len(caches))"
   ]
  },
  {
   "cell_type": "code",
   "execution_count": 26,
   "metadata": {},
   "outputs": [
    {
     "data": {
      "text/plain": [
       "array([[[9.99129368e-01, 8.90772592e-01, 7.04206315e-01, 9.19730000e-01],\n",
       "        [9.99394165e-01, 3.26947813e-01, 9.98789616e-01, 9.88219303e-01],\n",
       "        [9.94277463e-01, 9.95999371e-01, 9.97939529e-01, 2.76624090e-01],\n",
       "        [2.04396268e-01, 1.37751394e-01, 8.88817431e-01, 1.84840534e-01],\n",
       "        [7.42084036e-01, 4.16030656e-01, 5.96207274e-02, 9.56452021e-01],\n",
       "        [3.43688280e-01, 9.98867515e-01, 9.89766361e-01, 8.99137589e-01],\n",
       "        [9.39252776e-01, 7.07585502e-01, 8.85151052e-01, 3.34768716e-01],\n",
       "        [9.35504646e-01, 9.85731426e-01, 9.37994449e-01, 6.45782938e-01],\n",
       "        [6.39183022e-01, 2.35008185e-02, 8.20174082e-01, 3.42431253e-01],\n",
       "        [6.07750160e-01, 8.98666718e-01, 9.99114486e-01, 9.90187623e-01]],\n",
       "\n",
       "       [[8.70631878e-04, 1.09227408e-01, 2.95793685e-01, 8.02699998e-02],\n",
       "        [6.05834882e-04, 6.73052187e-01, 1.21038427e-03, 1.17806974e-02],\n",
       "        [5.72253732e-03, 4.00062909e-03, 2.06047094e-03, 7.23375910e-01],\n",
       "        [7.95603732e-01, 8.62248606e-01, 1.11182569e-01, 8.15159466e-01],\n",
       "        [2.57915964e-01, 5.83969344e-01, 9.40379273e-01, 4.35479788e-02],\n",
       "        [6.56311720e-01, 1.13248528e-03, 1.02336394e-02, 1.00862411e-01],\n",
       "        [6.07472236e-02, 2.92414498e-01, 1.14848948e-01, 6.65231284e-01],\n",
       "        [6.44953539e-02, 1.42685743e-02, 6.20055512e-02, 3.54217062e-01],\n",
       "        [3.60816978e-01, 9.76499181e-01, 1.79825918e-01, 6.57568747e-01],\n",
       "        [3.92249840e-01, 1.01333282e-01, 8.85513795e-04, 9.81237745e-03]]])"
      ]
     },
     "execution_count": 26,
     "metadata": {},
     "output_type": "execute_result"
    }
   ],
   "source": [
    "y_pred"
   ]
  },
  {
   "cell_type": "code",
   "execution_count": 19,
   "metadata": {},
   "outputs": [],
   "source": [
    "x = np.random.randn(3,10,4)"
   ]
  },
  {
   "cell_type": "code",
   "execution_count": 23,
   "metadata": {},
   "outputs": [
    {
     "data": {
      "text/plain": [
       "array([[-0.20339445,  1.79215821, -0.66575452, -0.31098498,  0.67471153,\n",
       "        -1.30572692,  1.93752881,  0.585662  , -1.52568032,  1.20205486],\n",
       "       [-0.7332716 ,  0.88490881,  1.23225307, -0.43750898,  0.21112476,\n",
       "         0.0809271 , -0.68067814,  0.78477065, -1.47115693,  1.62284909],\n",
       "       [-0.59980453, -0.66134424, -0.05118845, -0.79726979,  0.9561217 ,\n",
       "         1.15528789, -0.10679399, -1.94258918,  1.27852808,  0.00854895]])"
      ]
     },
     "execution_count": 23,
     "metadata": {},
     "output_type": "execute_result"
    }
   ],
   "source": [
    "x[:,:,2]"
   ]
  },
  {
   "cell_type": "code",
   "execution_count": 21,
   "metadata": {},
   "outputs": [
    {
     "data": {
      "text/plain": [
       "array([[[-1.98837863e-01, -7.00398505e-01, -2.03394449e-01,\n",
       "          2.42669441e-01],\n",
       "        [ 2.01830179e-01,  6.61020288e-01,  1.79215821e+00,\n",
       "         -1.20464572e-01],\n",
       "        [-1.23312074e+00, -1.18231813e+00, -6.65754518e-01,\n",
       "         -1.67419581e+00],\n",
       "        [ 8.25029824e-01, -4.98213564e-01, -3.10984978e-01,\n",
       "         -1.89148284e-03],\n",
       "        [-1.39662042e+00, -8.61316361e-01,  6.74711526e-01,\n",
       "          6.18539131e-01],\n",
       "        [-4.43171931e-01,  1.81053491e+00, -1.30572692e+00,\n",
       "         -3.44987210e-01],\n",
       "        [-2.30839743e-01, -2.79308500e+00,  1.93752881e+00,\n",
       "          3.66332015e-01],\n",
       "        [-1.04458938e+00,  2.05117344e+00,  5.85662000e-01,\n",
       "          4.29526140e-01],\n",
       "        [-6.06998398e-01,  1.06222724e-01, -1.52568032e+00,\n",
       "          7.95026094e-01],\n",
       "        [-3.74438319e-01,  1.34048197e-01,  1.20205486e+00,\n",
       "          2.84748111e-01]],\n",
       "\n",
       "       [[ 2.62467445e-01,  2.76499305e-01, -7.33271604e-01,\n",
       "          8.36004719e-01],\n",
       "        [ 1.54335911e+00,  7.58805660e-01,  8.84908814e-01,\n",
       "         -8.77281519e-01],\n",
       "        [-8.67787223e-01, -1.44087602e+00,  1.23225307e+00,\n",
       "         -2.54179868e-01],\n",
       "        [ 1.39984394e+00, -7.81911683e-01, -4.37508983e-01,\n",
       "          9.54250872e-02],\n",
       "        [ 9.21450069e-01,  6.07501958e-02,  2.11124755e-01,\n",
       "          1.65275673e-02],\n",
       "        [ 1.77187720e-01, -1.11647002e+00,  8.09271010e-02,\n",
       "         -1.86578994e-01],\n",
       "        [-5.68244809e-02,  4.92336556e-01, -6.80678141e-01,\n",
       "         -8.45080274e-02],\n",
       "        [-2.97361883e-01,  4.17302005e-01,  7.84770651e-01,\n",
       "         -9.55425262e-01],\n",
       "        [ 5.85910431e-01,  2.06578332e+00, -1.47115693e+00,\n",
       "         -8.30171895e-01],\n",
       "        [-8.80577600e-01, -2.79097722e-01,  1.62284909e+00,\n",
       "          1.33526763e-02]],\n",
       "\n",
       "       [[-6.94693595e-01,  6.21803504e-01, -5.99804531e-01,\n",
       "          1.12341216e+00],\n",
       "        [ 3.05267040e-01,  1.38877940e+00, -6.61344243e-01,\n",
       "          3.03085711e+00],\n",
       "        [ 8.24584625e-01,  6.54580153e-01, -5.11884476e-02,\n",
       "         -7.25597119e-01],\n",
       "        [-8.67768678e-01, -1.35977326e-01, -7.97269785e-01,\n",
       "          2.82675712e-01],\n",
       "        [-8.26097432e-01,  6.21082701e-01,  9.56121704e-01,\n",
       "         -7.05840507e-01],\n",
       "        [ 1.19268607e+00, -2.37941936e-01,  1.15528789e+00,\n",
       "          4.38166347e-01],\n",
       "        [ 1.12232832e+00, -9.97019796e-01, -1.06793987e-01,\n",
       "          1.45142926e+00],\n",
       "        [-6.18036848e-01, -2.03720123e+00, -1.94258918e+00,\n",
       "         -2.50644065e+00],\n",
       "        [-2.11416392e+00, -4.11639163e-01,  1.27852808e+00,\n",
       "         -4.42229280e-01],\n",
       "        [ 3.23527354e-01, -1.09991490e-01,  8.54894544e-03,\n",
       "         -1.68198840e-01]]])"
      ]
     },
     "execution_count": 21,
     "metadata": {},
     "output_type": "execute_result"
    }
   ],
   "source": [
    "x"
   ]
  },
  {
   "cell_type": "code",
   "execution_count": null,
   "metadata": {},
   "outputs": [],
   "source": []
  }
 ],
 "metadata": {
  "kernelspec": {
   "display_name": "Python 3",
   "language": "python",
   "name": "python3"
  },
  "language_info": {
   "codemirror_mode": {
    "name": "ipython",
    "version": 3
   },
   "file_extension": ".py",
   "mimetype": "text/x-python",
   "name": "python",
   "nbconvert_exporter": "python",
   "pygments_lexer": "ipython3",
   "version": "3.7.3"
  }
 },
 "nbformat": 4,
 "nbformat_minor": 2
}
