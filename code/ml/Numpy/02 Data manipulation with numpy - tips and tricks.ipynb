{
 "cells": [
  {
   "cell_type": "code",
   "execution_count": 1,
   "metadata": {},
   "outputs": [],
   "source": [
    "from __future__ import print_function # for python 2 & python 3 compatibility\n",
    "%matplotlib inline\n",
    "import numpy as np"
   ]
  },
  {
   "cell_type": "markdown",
   "metadata": {},
   "source": [
    "## 1. numpy.argsort"
   ]
  },
  {
   "cell_type": "code",
   "execution_count": 2,
   "metadata": {},
   "outputs": [
    {
     "name": "stdout",
     "output_type": "stream",
     "text": [
      "[55 32 35 47 47 53 30 43 44 35]\n",
      "[179 175 195 197 186 189 174 167 199 171]\n"
     ]
    }
   ],
   "source": [
    "ages = np.random.randint(low=30, high=60, size=10)\n",
    "heights = np.random.randint(low=150, high=210, size=10)\n",
    "\n",
    "print(ages)\n",
    "print(heights)"
   ]
  },
  {
   "cell_type": "code",
   "execution_count": 3,
   "metadata": {},
   "outputs": [
    {
     "name": "stdout",
     "output_type": "stream",
     "text": [
      "[30 32 35 35 43 44 47 47 53 55]\n",
      "[174 175 195 171 167 199 197 186 189 179]\n"
     ]
    }
   ],
   "source": [
    "#Say, we want to order the people according to their age and their heights.\n",
    "sorter = np.argsort(ages)\n",
    "print(ages[sorter])\n",
    "print(heights[sorter])"
   ]
  },
  {
   "cell_type": "markdown",
   "metadata": {},
   "source": [
    "### Computing inverse of permutation"
   ]
  },
  {
   "cell_type": "code",
   "execution_count": 4,
   "metadata": {},
   "outputs": [],
   "source": [
    "permutation = np.random.permutation(10)\n",
    "original = np.array(list('abcdefghij'))\n"
   ]
  },
  {
   "cell_type": "code",
   "execution_count": 5,
   "metadata": {},
   "outputs": [
    {
     "name": "stdout",
     "output_type": "stream",
     "text": [
      "[6 8 0 4 3 5 9 2 7 1]\n",
      "['a' 'b' 'c' 'd' 'e' 'f' 'g' 'h' 'i' 'j']\n",
      "['g' 'i' 'a' 'e' 'd' 'f' 'j' 'c' 'h' 'b']\n"
     ]
    }
   ],
   "source": [
    "print(permutation)\n",
    "print(original)\n",
    "print(original[permutation])"
   ]
  },
  {
   "cell_type": "code",
   "execution_count": 6,
   "metadata": {},
   "outputs": [
    {
     "data": {
      "text/plain": [
       "array(['a', 'b', 'c', 'd', 'e', 'f', 'g', 'h', 'i', 'j'], dtype='<U1')"
      ]
     },
     "execution_count": 6,
     "metadata": {},
     "output_type": "execute_result"
    }
   ],
   "source": [
    "#Inverse permutation is computed using numpy.argsort (again!)\n",
    "\n",
    "inverse_permutation = np.argsort(permutation)\n",
    "original[permutation][inverse_permutation]"
   ]
  },
  {
   "cell_type": "markdown",
   "metadata": {},
   "source": [
    "### Computing order of elements in array¶\n",
    "\n",
    "frequently it is important to compute order of each value in array.\n",
    "\n",
    "<br>In other words, for each element in array we want to find the number of elements smaller than given."
   ]
  },
  {
   "cell_type": "code",
   "execution_count": 7,
   "metadata": {},
   "outputs": [
    {
     "name": "stdout",
     "output_type": "stream",
     "text": [
      "[2 3 4 5 1]\n",
      "[1 2 3 4 0]\n"
     ]
    },
    {
     "data": {
      "text/plain": [
       "array([4, 0, 1, 2, 3])"
      ]
     },
     "execution_count": 7,
     "metadata": {},
     "output_type": "execute_result"
    }
   ],
   "source": [
    "data = np.array([2,3,4,5,1])\n",
    "print(data)\n",
    "print(np.argsort(np.argsort(data)))\n",
    "np.argsort(data)"
   ]
  },
  {
   "cell_type": "markdown",
   "metadata": {},
   "source": [
    "#### np.clip()"
   ]
  },
  {
   "cell_type": "code",
   "execution_count": 8,
   "metadata": {},
   "outputs": [
    {
     "data": {
      "text/plain": [
       "array([-15, -15, -10,   0,  10,  15,  15])"
      ]
     },
     "execution_count": 8,
     "metadata": {},
     "output_type": "execute_result"
    }
   ],
   "source": [
    "np.clip([-500,-400,-10,0,10,400,500],a_min=-15,a_max=15)"
   ]
  },
  {
   "cell_type": "markdown",
   "metadata": {},
   "source": [
    "## 2. Broadcasting, numpy.newaxis"
   ]
  },
  {
   "cell_type": "markdown",
   "metadata": {},
   "source": [
    "Weighted covariation matrix¶\n",
    "\n",
    "numpy has cov function, but it doesn't support weights of samples. Let's write our own covariation matrix.\n"
   ]
  },
  {
   "cell_type": "code",
   "execution_count": 9,
   "metadata": {},
   "outputs": [
    {
     "data": {
      "text/plain": [
       "array([[ 0.62697831, -0.82936594, -0.51035373,  2.11354918, -1.16451852],\n",
       "       [-0.88368543,  0.71411343, -0.03361894, -0.92692087,  0.27268249],\n",
       "       [-0.75195205,  0.25862438,  0.28456944,  0.17131761,  1.50607021],\n",
       "       [-0.7844922 ,  1.12548012,  0.62508268, -0.47310641,  1.57188669],\n",
       "       [-0.40810572,  1.31967259, -1.56252608, -0.58223565,  0.29869067],\n",
       "       [-0.64374009,  0.43392141,  0.54347548,  1.12752574,  2.21099653],\n",
       "       [ 2.35705235, -0.82332   , -0.17441953, -0.47774366,  0.14900125],\n",
       "       [-0.06579124, -1.05934393,  0.22793442,  0.9079189 , -0.51671027],\n",
       "       [ 0.34508943, -0.06117332,  0.70522988,  0.28856896,  0.71409698],\n",
       "       [-0.75343149, -1.17316834,  0.27487051, -0.15465735,  0.40863545]])"
      ]
     },
     "execution_count": 9,
     "metadata": {},
     "output_type": "execute_result"
    }
   ],
   "source": [
    "data=np.random.normal(size=[10,5])\n",
    "data"
   ]
  },
  {
   "cell_type": "code",
   "execution_count": 10,
   "metadata": {},
   "outputs": [
    {
     "data": {
      "text/plain": [
       "array([0.66837518, 0.04826067, 0.59164297, 0.0552621 , 0.56002824,\n",
       "       0.08915016, 0.06841808, 0.10042257, 0.73559933, 0.36945704])"
      ]
     },
     "execution_count": 10,
     "metadata": {},
     "output_type": "execute_result"
    }
   ],
   "source": [
    "weights=np.random.rand(10)\n",
    "weights"
   ]
  },
  {
   "cell_type": "code",
   "execution_count": 11,
   "metadata": {},
   "outputs": [],
   "source": [
    "def covariance(data,weights):\n",
    "    weights=weights/weights.sum()\n",
    "    return data.T.dot(weights[:, np.newaxis] * data)"
   ]
  },
  {
   "cell_type": "code",
   "execution_count": 12,
   "metadata": {},
   "outputs": [
    {
     "name": "stdout",
     "output_type": "stream",
     "text": [
      "shape of data (10, 5) and shape of weights is (10,)\n"
     ]
    },
    {
     "data": {
      "text/plain": [
       "array([[ 0.44941574, -0.20784625,  0.0099394 ,  0.29548458, -0.40710349],\n",
       "       [-0.20784625,  0.68652317, -0.28445612, -0.48958188,  0.34282694],\n",
       "       [ 0.0099394 , -0.28445612,  0.62019412,  0.00537151,  0.28866913],\n",
       "       [ 0.29548458, -0.48958188,  0.00537151,  1.07361627, -0.40910951],\n",
       "       [-0.40710349,  0.34282694,  0.28866913, -0.40910951,  1.01606504]])"
      ]
     },
     "execution_count": 12,
     "metadata": {},
     "output_type": "execute_result"
    }
   ],
   "source": [
    "print(f'shape of data {data.shape} and shape of weights is {weights.shape}')\n",
    "covariance(data,weights)"
   ]
  },
  {
   "cell_type": "code",
   "execution_count": 13,
   "metadata": {},
   "outputs": [
    {
     "data": {
      "text/plain": [
       "array([[ 1.01000264, -0.4515074 , -0.11778518,  0.12450299, -0.44819594],\n",
       "       [-0.4515074 ,  0.84893987, -0.12329924, -0.39643544,  0.5139893 ],\n",
       "       [-0.11778518, -0.12329924,  0.45677481,  0.06705645,  0.33289946],\n",
       "       [ 0.12450299, -0.39643544,  0.06705645,  0.88353569, -0.26278776],\n",
       "       [-0.44819594,  0.5139893 ,  0.33289946, -0.26278776,  1.0158009 ]])"
      ]
     },
     "execution_count": 13,
     "metadata": {},
     "output_type": "execute_result"
    }
   ],
   "source": [
    "np.cov(data.T)"
   ]
  },
  {
   "cell_type": "code",
   "execution_count": 14,
   "metadata": {},
   "outputs": [
    {
     "data": {
      "text/plain": [
       "array([[ 0.44941574, -0.20784625,  0.0099394 ,  0.29548458, -0.40710349],\n",
       "       [-0.20784625,  0.68652317, -0.28445612, -0.48958188,  0.34282694],\n",
       "       [ 0.0099394 , -0.28445612,  0.62019412,  0.00537151,  0.28866913],\n",
       "       [ 0.29548458, -0.48958188,  0.00537151,  1.07361627, -0.40910951],\n",
       "       [-0.40710349,  0.34282694,  0.28866913, -0.40910951,  1.01606504]])"
      ]
     },
     "execution_count": 14,
     "metadata": {},
     "output_type": "execute_result"
    }
   ],
   "source": [
    "#altrenative way to do this \n",
    "np.einsum('ij, ik, i -> jk', data, data, weights / weights.sum())"
   ]
  },
  {
   "cell_type": "markdown",
   "metadata": {},
   "source": [
    "#### More about Einsum : https://stackoverflow.com/questions/26089893/understanding-numpys-einsum"
   ]
  },
  {
   "cell_type": "code",
   "execution_count": 15,
   "metadata": {},
   "outputs": [],
   "source": [
    "A = np.array([0, 1, 2])\n",
    "\n",
    "B = np.array([[ 0,  1,  2,  3],\n",
    "              [ 4,  5,  6,  7],\n",
    "              [ 8,  9, 10, 11]])"
   ]
  },
  {
   "cell_type": "code",
   "execution_count": 20,
   "metadata": {},
   "outputs": [
    {
     "data": {
      "text/plain": [
       "(array([0, 1, 2]), array([[ 0,  1,  2,  3],\n",
       "        [ 4,  5,  6,  7],\n",
       "        [ 8,  9, 10, 11]]))"
      ]
     },
     "execution_count": 20,
     "metadata": {},
     "output_type": "execute_result"
    }
   ],
   "source": [
    "A,B"
   ]
  },
  {
   "cell_type": "code",
   "execution_count": 17,
   "metadata": {},
   "outputs": [
    {
     "data": {
      "text/plain": [
       "array([ 0, 22, 76])"
      ]
     },
     "execution_count": 17,
     "metadata": {},
     "output_type": "execute_result"
    }
   ],
   "source": [
    "np.einsum('i,ij->i',A,B)"
   ]
  },
  {
   "cell_type": "code",
   "execution_count": 18,
   "metadata": {},
   "outputs": [
    {
     "data": {
      "text/plain": [
       "array([20, 23, 26, 29])"
      ]
     },
     "execution_count": 18,
     "metadata": {},
     "output_type": "execute_result"
    }
   ],
   "source": [
    "np.einsum('i,ij->j',A,B)\n"
   ]
  },
  {
   "cell_type": "code",
   "execution_count": 19,
   "metadata": {},
   "outputs": [
    {
     "data": {
      "text/plain": [
       "array([[ 0,  0,  0,  0],\n",
       "       [ 4,  5,  6,  7],\n",
       "       [16, 18, 20, 22]])"
      ]
     },
     "execution_count": 19,
     "metadata": {},
     "output_type": "execute_result"
    }
   ],
   "source": [
    "np.einsum('i,ij->ij',A,B)"
   ]
  },
  {
   "cell_type": "code",
   "execution_count": 24,
   "metadata": {},
   "outputs": [
    {
     "data": {
      "text/plain": [
       "array([ 0, 22, 76])"
      ]
     },
     "execution_count": 24,
     "metadata": {},
     "output_type": "execute_result"
    }
   ],
   "source": [
    "(A[:,np.newaxis]*B).sum(axis=1)"
   ]
  },
  {
   "cell_type": "raw",
   "metadata": {},
   "source": [
    "The signature string 'i,ij->i' is the key here and needs a little bit of explaining. You can think of it in two halves. On the left-hand side (left of the ->) we've labelled the two input arrays. To the right of ->, we've labelled the array we want to end up with.\n",
    "\n",
    "Here is what happens next:\n",
    "\n",
    "A has one axis; we've labelled it i. And B has two axes; we've labelled axis 0 as i and axis 1 as j.\n",
    "\n",
    "By repeating the label i in both input arrays, we are telling einsum that these two axes should be multiplied together. In other words, we're multiplying array A with each column of array B, just like A[:, np.newaxis] * B does.\n",
    "\n",
    "\n",
    "Notice that j does not appear as a label in our desired output; we've just used i (we want to end up with a 1D array). By omitting the label, we're telling einsum to sum along this axis. In other words, we're summing the rows of the products, just like .sum(axis=1) does."
   ]
  },
  {
   "cell_type": "code",
   "execution_count": 26,
   "metadata": {},
   "outputs": [],
   "source": [
    "A = np.array([[1, 1, 1],\n",
    "           [2, 2, 2],\n",
    "           [5, 5, 5]])\n",
    "\n",
    "B = np.array([[0, 1, 0],\n",
    "           [1, 1, 0],\n",
    "           [1, 1, 1]])"
   ]
  },
  {
   "cell_type": "code",
   "execution_count": 27,
   "metadata": {},
   "outputs": [
    {
     "data": {
      "text/plain": [
       "array([[ 2,  3,  1],\n",
       "       [ 4,  6,  2],\n",
       "       [10, 15,  5]])"
      ]
     },
     "execution_count": 27,
     "metadata": {},
     "output_type": "execute_result"
    }
   ],
   "source": [
    "np.einsum('ij,jk->ik',A,B)"
   ]
  },
  {
   "cell_type": "code",
   "execution_count": 34,
   "metadata": {},
   "outputs": [
    {
     "data": {
      "text/plain": [
       "(array([0, 1, 2, 3, 4, 5, 6, 7, 8, 9]),\n",
       " array([ 5,  6,  7,  8,  9, 10, 11, 12, 13, 14]))"
      ]
     },
     "execution_count": 34,
     "metadata": {},
     "output_type": "execute_result"
    }
   ],
   "source": [
    "A = np.arange(10)\n",
    "B = np.arange(5, 15)\n",
    "A,B"
   ]
  },
  {
   "cell_type": "code",
   "execution_count": 35,
   "metadata": {},
   "outputs": [
    {
     "data": {
      "text/plain": [
       "45"
      ]
     },
     "execution_count": 35,
     "metadata": {},
     "output_type": "execute_result"
    }
   ],
   "source": [
    "np.einsum('i->',A)"
   ]
  },
  {
   "cell_type": "code",
   "execution_count": 37,
   "metadata": {},
   "outputs": [
    {
     "data": {
      "text/plain": [
       "array([  0,   6,  14,  24,  36,  50,  66,  84, 104, 126])"
      ]
     },
     "execution_count": 37,
     "metadata": {},
     "output_type": "execute_result"
    }
   ],
   "source": [
    "np.einsum('i,i->i',A,B)"
   ]
  },
  {
   "cell_type": "code",
   "execution_count": 45,
   "metadata": {},
   "outputs": [
    {
     "data": {
      "text/plain": [
       "(array([[0, 1],\n",
       "        [2, 3]]), array([4, 5]))"
      ]
     },
     "execution_count": 45,
     "metadata": {},
     "output_type": "execute_result"
    }
   ],
   "source": [
    "A=np.arange(4).reshape(2,2)\n",
    "B=np.arange(4,6).reshape(2,)\n",
    "A,B"
   ]
  },
  {
   "cell_type": "code",
   "execution_count": 46,
   "metadata": {},
   "outputs": [
    {
     "data": {
      "text/plain": [
       "3"
      ]
     },
     "execution_count": 46,
     "metadata": {},
     "output_type": "execute_result"
    }
   ],
   "source": [
    "#Diagonal\n",
    "np.einsum('ii',A)"
   ]
  },
  {
   "cell_type": "code",
   "execution_count": 63,
   "metadata": {},
   "outputs": [
    {
     "data": {
      "text/plain": [
       "array([[ 0, 10],\n",
       "       [ 4, 15]])"
      ]
     },
     "execution_count": 63,
     "metadata": {},
     "output_type": "execute_result"
    }
   ],
   "source": [
    "np.einsum('ij,i->ji',A,B)"
   ]
  },
  {
   "cell_type": "code",
   "execution_count": 102,
   "metadata": {},
   "outputs": [
    {
     "name": "stdout",
     "output_type": "stream",
     "text": [
      "[[1 2]\n",
      " [3 4]]\n",
      "[[   10   100]\n",
      " [ 1000 10000]]\n"
     ]
    }
   ],
   "source": [
    "A=np.array([1,2,3,4]).reshape(2,2)\n",
    "B=np.array([10,100,1000,10000]).reshape(2,2)\n",
    "print(f'{A}\\n{B}')"
   ]
  },
  {
   "cell_type": "code",
   "execution_count": 103,
   "metadata": {},
   "outputs": [
    {
     "data": {
      "text/plain": [
       "array([[[   10,   100],\n",
       "        [   20,   200]],\n",
       "\n",
       "       [[ 3000, 30000],\n",
       "        [ 4000, 40000]]])"
      ]
     },
     "execution_count": 103,
     "metadata": {},
     "output_type": "execute_result"
    }
   ],
   "source": [
    "np.einsum('ij,ik->ijk',A,B)"
   ]
  },
  {
   "cell_type": "code",
   "execution_count": 104,
   "metadata": {},
   "outputs": [
    {
     "data": {
      "text/plain": [
       "array([[   30,   300],\n",
       "       [ 7000, 70000]])"
      ]
     },
     "execution_count": 104,
     "metadata": {},
     "output_type": "execute_result"
    }
   ],
   "source": [
    "np.einsum('ij,ik->ik',A,B)"
   ]
  },
  {
   "cell_type": "code",
   "execution_count": 109,
   "metadata": {},
   "outputs": [
    {
     "data": {
      "text/plain": [
       "array([[   10,   200],\n",
       "       [ 3000, 40000]])"
      ]
     },
     "execution_count": 109,
     "metadata": {},
     "output_type": "execute_result"
    }
   ],
   "source": [
    "##3\n",
    "np.einsum('ij,ij->ij',A,B)"
   ]
  },
  {
   "cell_type": "code",
   "execution_count": 110,
   "metadata": {},
   "outputs": [
    {
     "data": {
      "text/plain": [
       "array([[[   10,   100],\n",
       "        [ 1000, 10000]],\n",
       "\n",
       "       [[   40,   400],\n",
       "        [ 4000, 40000]]])"
      ]
     },
     "execution_count": 110,
     "metadata": {},
     "output_type": "execute_result"
    }
   ],
   "source": [
    "##4\n",
    "np.einsum('ii,jk->ijk',A,B)"
   ]
  },
  {
   "cell_type": "code",
   "execution_count": 111,
   "metadata": {},
   "outputs": [
    {
     "data": {
      "text/plain": [
       "array([[[   10,   100],\n",
       "        [ 2000, 20000]],\n",
       "\n",
       "       [[   30,   300],\n",
       "        [ 4000, 40000]]])"
      ]
     },
     "execution_count": 111,
     "metadata": {},
     "output_type": "execute_result"
    }
   ],
   "source": [
    "np.einsum('ij,jk->ijk',A,B)"
   ]
  },
  {
   "cell_type": "code",
   "execution_count": null,
   "metadata": {},
   "outputs": [],
   "source": []
  }
 ],
 "metadata": {
  "kernelspec": {
   "display_name": "Python 3",
   "language": "python",
   "name": "python3"
  },
  "language_info": {
   "codemirror_mode": {
    "name": "ipython",
    "version": 3
   },
   "file_extension": ".py",
   "mimetype": "text/x-python",
   "name": "python",
   "nbconvert_exporter": "python",
   "pygments_lexer": "ipython3",
   "version": "3.7.3"
  }
 },
 "nbformat": 4,
 "nbformat_minor": 2
}
