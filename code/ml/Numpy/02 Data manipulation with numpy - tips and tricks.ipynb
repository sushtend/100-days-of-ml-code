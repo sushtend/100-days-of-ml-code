{
 "cells": [
  {
   "cell_type": "code",
   "execution_count": 1,
   "metadata": {},
   "outputs": [],
   "source": [
    "from __future__ import print_function # for python 2 & python 3 compatibility\n",
    "%matplotlib inline\n",
    "import numpy as np"
   ]
  },
  {
   "cell_type": "markdown",
   "metadata": {},
   "source": [
    "## 1. numpy.argsort"
   ]
  },
  {
   "cell_type": "code",
   "execution_count": 2,
   "metadata": {},
   "outputs": [
    {
     "name": "stdout",
     "output_type": "stream",
     "text": [
      "[35 38 43 57 34 57 53 42 44 47]\n",
      "[194 157 182 153 160 191 161 155 199 177]\n"
     ]
    }
   ],
   "source": [
    "ages = np.random.randint(low=30, high=60, size=10)\n",
    "heights = np.random.randint(low=150, high=210, size=10)\n",
    "\n",
    "print(ages)\n",
    "print(heights)"
   ]
  },
  {
   "cell_type": "code",
   "execution_count": 17,
   "metadata": {},
   "outputs": [
    {
     "name": "stdout",
     "output_type": "stream",
     "text": [
      "[34 35 38 42 43 44 47 53 57 57]\n",
      "[160 194 157 155 182 199 177 161 153 191]\n"
     ]
    }
   ],
   "source": [
    "#Say, we want to order the people according to their age and their heights.\n",
    "sorter = np.argsort(ages)\n",
    "print(ages[sorter])\n",
    "print(heights[sorter])"
   ]
  },
  {
   "cell_type": "markdown",
   "metadata": {},
   "source": [
    "### Computing inverse of permutation"
   ]
  },
  {
   "cell_type": "code",
   "execution_count": 21,
   "metadata": {},
   "outputs": [],
   "source": [
    "permutation = np.random.permutation(10)\n",
    "original = np.array(list('abcdefghij'))\n"
   ]
  },
  {
   "cell_type": "code",
   "execution_count": 22,
   "metadata": {},
   "outputs": [
    {
     "name": "stdout",
     "output_type": "stream",
     "text": [
      "[0 9 6 7 2 1 4 5 8 3]\n",
      "['a' 'b' 'c' 'd' 'e' 'f' 'g' 'h' 'i' 'j']\n",
      "['a' 'j' 'g' 'h' 'c' 'b' 'e' 'f' 'i' 'd']\n"
     ]
    }
   ],
   "source": [
    "print(permutation)\n",
    "print(original)\n",
    "print(original[permutation])"
   ]
  },
  {
   "cell_type": "code",
   "execution_count": 24,
   "metadata": {},
   "outputs": [
    {
     "data": {
      "text/plain": [
       "array(['a', 'b', 'c', 'd', 'e', 'f', 'g', 'h', 'i', 'j'], dtype='<U1')"
      ]
     },
     "execution_count": 24,
     "metadata": {},
     "output_type": "execute_result"
    }
   ],
   "source": [
    "#Inverse permutation is computed using numpy.argsort (again!)\n",
    "\n",
    "inverse_permutation = np.argsort(permutation)\n",
    "original[permutation][inverse_permutation]"
   ]
  },
  {
   "cell_type": "markdown",
   "metadata": {},
   "source": [
    "### Computing order of elements in array¶\n",
    "\n",
    "frequently it is important to compute order of each value in array.\n",
    "\n",
    "<br>In other words, for each element in array we want to find the number of elements smaller than given."
   ]
  },
  {
   "cell_type": "code",
   "execution_count": 36,
   "metadata": {},
   "outputs": [
    {
     "name": "stdout",
     "output_type": "stream",
     "text": [
      "[2 3 4 5 1]\n",
      "[1 2 3 4 0]\n"
     ]
    },
    {
     "data": {
      "text/plain": [
       "array([4, 0, 1, 2, 3])"
      ]
     },
     "execution_count": 36,
     "metadata": {},
     "output_type": "execute_result"
    }
   ],
   "source": [
    "data = np.array([2,3,4,5,1])\n",
    "print(data)\n",
    "print(np.argsort(np.argsort(data)))\n",
    "np.argsort(data)"
   ]
  },
  {
   "cell_type": "markdown",
   "metadata": {},
   "source": [
    "#### np.clip()"
   ]
  },
  {
   "cell_type": "code",
   "execution_count": 37,
   "metadata": {},
   "outputs": [
    {
     "data": {
      "text/plain": [
       "array([-15, -15, -10,   0,  10,  15,  15])"
      ]
     },
     "execution_count": 37,
     "metadata": {},
     "output_type": "execute_result"
    }
   ],
   "source": [
    "np.clip([-500,-400,-10,0,10,400,500],a_min=-15,a_max=15)"
   ]
  },
  {
   "cell_type": "markdown",
   "metadata": {},
   "source": [
    "## 2. Broadcasting, numpy.newaxis"
   ]
  },
  {
   "cell_type": "markdown",
   "metadata": {},
   "source": [
    "Weighted covariation matrix¶\n",
    "\n",
    "numpy has cov function, but it doesn't support weights of samples. Let's write our own covariation matrix.\n"
   ]
  },
  {
   "cell_type": "code",
   "execution_count": 80,
   "metadata": {},
   "outputs": [
    {
     "data": {
      "text/plain": [
       "array([[ 0.25469666, -0.63948836, -0.10349587, -0.41905414, -1.60108748],\n",
       "       [-0.60917092,  0.13755522, -0.15820003, -1.22136298, -0.90924207],\n",
       "       [-0.68096012,  1.14892366,  0.09638024,  0.67488878,  0.93735122],\n",
       "       [ 0.3662721 , -0.54466571,  0.18304563, -0.4620419 , -1.67682492],\n",
       "       [ 0.18530902, -1.50645457, -0.0187298 , -0.26128559, -1.87157569],\n",
       "       [-1.64086875,  0.658265  , -0.20086578,  0.13490622,  0.93420914],\n",
       "       [ 0.82858889,  1.87931916, -0.11867659,  0.76611029,  0.74647806],\n",
       "       [-0.45698954,  1.22284896, -1.52623677, -0.95822136,  0.38547342],\n",
       "       [ 0.31029919, -0.2881187 , -1.33687559,  0.56807763,  0.18024027],\n",
       "       [-0.26069674,  0.02481501, -0.68227442, -0.43197673, -0.59236399]])"
      ]
     },
     "execution_count": 80,
     "metadata": {},
     "output_type": "execute_result"
    }
   ],
   "source": [
    "data=np.random.normal(size=[10,5])\n",
    "data"
   ]
  },
  {
   "cell_type": "code",
   "execution_count": 81,
   "metadata": {},
   "outputs": [
    {
     "data": {
      "text/plain": [
       "array([0.68756514, 0.70880171, 0.93722909, 0.64893491, 0.35314641,\n",
       "       0.44668649, 0.4636987 , 0.47297428, 0.56947043, 0.7553067 ])"
      ]
     },
     "execution_count": 81,
     "metadata": {},
     "output_type": "execute_result"
    }
   ],
   "source": [
    "weights=np.random.rand(10)\n",
    "weights"
   ]
  },
  {
   "cell_type": "code",
   "execution_count": 85,
   "metadata": {},
   "outputs": [],
   "source": [
    "def covariance(data,weights):\n",
    "    weights=weights/weights.sum()\n",
    "    return data.T.dot(weights[:, np.newaxis] * data)"
   ]
  },
  {
   "cell_type": "code",
   "execution_count": 89,
   "metadata": {},
   "outputs": [
    {
     "name": "stdout",
     "output_type": "stream",
     "text": [
      "shape of data (10, 5) and shape of weights is (10,)\n"
     ]
    },
    {
     "data": {
      "text/plain": [
       "array([[ 0.42479695, -0.200736  ,  0.05966085,  0.08014134, -0.22168303],\n",
       "       [-0.200736  ,  0.84581857, -0.12567057,  0.18961166,  0.71486409],\n",
       "       [ 0.05966085, -0.12567057,  0.42214211,  0.09963175, -0.02008025],\n",
       "       [ 0.08014134,  0.18961166,  0.09963175,  0.4644242 ,  0.48233997],\n",
       "       [-0.22168303,  0.71486409, -0.02008025,  0.48233997,  1.19720716]])"
      ]
     },
     "execution_count": 89,
     "metadata": {},
     "output_type": "execute_result"
    }
   ],
   "source": [
    "print(f'shape of data {data.shape} and shape of weights is {weights.shape}')\n",
    "covariance(data,weights)"
   ]
  },
  {
   "cell_type": "code",
   "execution_count": 91,
   "metadata": {},
   "outputs": [
    {
     "data": {
      "text/plain": [
       "array([[ 0.50334005, -0.14764389,  0.01123938,  0.0917796 , -0.32489579],\n",
       "       [-0.14764389,  1.04667053, -0.10672783,  0.22666948,  0.98408795],\n",
       "       [ 0.01123938, -0.10672783,  0.35787869,  0.05325432, -0.21264541],\n",
       "       [ 0.0917796 ,  0.22666948,  0.05325432,  0.4642215 ,  0.42293778],\n",
       "       [-0.32489579,  0.98408795, -0.21264541,  0.42293778,  1.26034094]])"
      ]
     },
     "execution_count": 91,
     "metadata": {},
     "output_type": "execute_result"
    }
   ],
   "source": [
    "np.cov(data.T)"
   ]
  },
  {
   "cell_type": "code",
   "execution_count": 92,
   "metadata": {},
   "outputs": [
    {
     "data": {
      "text/plain": [
       "array([[ 0.42479695, -0.200736  ,  0.05966085,  0.08014134, -0.22168303],\n",
       "       [-0.200736  ,  0.84581857, -0.12567057,  0.18961166,  0.71486409],\n",
       "       [ 0.05966085, -0.12567057,  0.42214211,  0.09963175, -0.02008025],\n",
       "       [ 0.08014134,  0.18961166,  0.09963175,  0.4644242 ,  0.48233997],\n",
       "       [-0.22168303,  0.71486409, -0.02008025,  0.48233997,  1.19720716]])"
      ]
     },
     "execution_count": 92,
     "metadata": {},
     "output_type": "execute_result"
    }
   ],
   "source": [
    "#altrenative way to do this \n",
    "np.einsum('ij, ik, i -> jk', data, data, weights / weights.sum())"
   ]
  },
  {
   "cell_type": "markdown",
   "metadata": {},
   "source": [
    "#### More about Einsum : https://stackoverflow.com/questions/26089893/understanding-numpys-einsum"
   ]
  },
  {
   "cell_type": "code",
   "execution_count": 93,
   "metadata": {},
   "outputs": [],
   "source": [
    "A = np.array([0, 1, 2])\n",
    "\n",
    "B = np.array([[ 0,  1,  2,  3],\n",
    "              [ 4,  5,  6,  7],\n",
    "              [ 8,  9, 10, 11]])"
   ]
  },
  {
   "cell_type": "code",
   "execution_count": 94,
   "metadata": {},
   "outputs": [
    {
     "data": {
      "text/plain": [
       "(array([0, 1, 2]), array([[ 0,  1,  2,  3],\n",
       "        [ 4,  5,  6,  7],\n",
       "        [ 8,  9, 10, 11]]))"
      ]
     },
     "execution_count": 94,
     "metadata": {},
     "output_type": "execute_result"
    }
   ],
   "source": [
    "A,B"
   ]
  },
  {
   "cell_type": "code",
   "execution_count": 97,
   "metadata": {},
   "outputs": [
    {
     "data": {
      "text/plain": [
       "array([ 0, 22, 76])"
      ]
     },
     "execution_count": 97,
     "metadata": {},
     "output_type": "execute_result"
    }
   ],
   "source": [
    "np.einsum('i,ij->i',A,B)"
   ]
  },
  {
   "cell_type": "code",
   "execution_count": 101,
   "metadata": {},
   "outputs": [
    {
     "data": {
      "text/plain": [
       "array([20, 23, 26, 29])"
      ]
     },
     "execution_count": 101,
     "metadata": {},
     "output_type": "execute_result"
    }
   ],
   "source": [
    "np.einsum('i,ij->j',A,B)\n"
   ]
  },
  {
   "cell_type": "code",
   "execution_count": 102,
   "metadata": {},
   "outputs": [
    {
     "data": {
      "text/plain": [
       "array([[ 0,  0,  0,  0],\n",
       "       [ 4,  5,  6,  7],\n",
       "       [16, 18, 20, 22]])"
      ]
     },
     "execution_count": 102,
     "metadata": {},
     "output_type": "execute_result"
    }
   ],
   "source": [
    "np.einsum('i,ij->ij',A,B)"
   ]
  },
  {
   "cell_type": "code",
   "execution_count": null,
   "metadata": {},
   "outputs": [],
   "source": []
  }
 ],
 "metadata": {
  "kernelspec": {
   "display_name": "Python 3",
   "language": "python",
   "name": "python3"
  },
  "language_info": {
   "codemirror_mode": {
    "name": "ipython",
    "version": 3
   },
   "file_extension": ".py",
   "mimetype": "text/x-python",
   "name": "python",
   "nbconvert_exporter": "python",
   "pygments_lexer": "ipython3",
   "version": "3.7.3"
  }
 },
 "nbformat": 4,
 "nbformat_minor": 2
}
