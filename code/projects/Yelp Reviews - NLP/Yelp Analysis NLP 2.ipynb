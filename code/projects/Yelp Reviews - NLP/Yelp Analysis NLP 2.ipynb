{
 "cells": [
  {
   "cell_type": "code",
   "execution_count": null,
   "metadata": {},
   "outputs": [],
   "source": []
  },
  {
   "cell_type": "code",
   "execution_count": 1,
   "metadata": {},
   "outputs": [
    {
     "name": "stderr",
     "output_type": "stream",
     "text": [
      "/Users/tendulkar/anaconda3/lib/python3.7/site-packages/nltk/decorators.py:68: DeprecationWarning: `formatargspec` is deprecated since Python 3.5. Use `signature` and the `Signature` object directly\n",
      "  regargs, varargs, varkwargs, defaults, formatvalue=lambda value: \"\"\n",
      "[nltk_data] Downloading package stopwords to\n",
      "[nltk_data]     /Users/tendulkar/nltk_data...\n",
      "[nltk_data]   Unzipping corpora/stopwords.zip.\n"
     ]
    }
   ],
   "source": [
    "import pickle\n",
    "import gensim\n",
    "import pyLDAvis\n",
    "import pyLDAvis.gensim\n",
    "import spacy\n",
    "import pandas as pd\n",
    "import nltk; nltk.download('stopwords')\n",
    "import gensim.corpora as corpora\n",
    "from gensim.utils import simple_preprocess\n",
    "from gensim.models import CoherenceModel\n",
    "import re\n",
    "import warnings\n",
    "from pprint import pprint\n",
    "from sklearn.model_selection import train_test_split\n",
    "import numpy as np\n",
    "from sklearn.metrics import accuracy_score\n",
    "from sklearn.linear_model import LogisticRegression\n",
    "from sklearn.naive_bayes import GaussianNB, MultinomialNB\n",
    "from sklearn.preprocessing import StandardScaler, MinMaxScaler\n",
    "import seaborn as sns\n",
    "%config InlineBackend.figure_formats = ['retina']\n",
    "from sklearn.metrics import f1_score\n",
    "from sklearn import linear_model\n",
    "from sklearn import metrics\n",
    "from sklearn.model_selection import KFold\n",
    "from sklearn.metrics import fbeta_score\n",
    "import matplotlib.pyplot as plt"
   ]
  },
  {
   "cell_type": "code",
   "execution_count": 3,
   "metadata": {},
   "outputs": [
    {
     "name": "stdout",
     "output_type": "stream",
     "text": [
      "./data\n"
     ]
    }
   ],
   "source": [
    "import os\n",
    "data_filepath = os.path.join(\".\",\"data\")\n",
    "print(data_filepath)"
   ]
  },
  {
   "cell_type": "markdown",
   "metadata": {},
   "source": [
    "# Preprocess"
   ]
  },
  {
   "cell_type": "code",
   "execution_count": 49,
   "metadata": {},
   "outputs": [],
   "source": [
    "import pandas as pd\n",
    "import json"
   ]
  },
  {
   "cell_type": "code",
   "execution_count": 37,
   "metadata": {},
   "outputs": [],
   "source": [
    "#attributes\tbusiness_id\tcategories\tcity\tname\tbiz_stars\tstate\tdate\treview_stars\ttext\tuseful\treal_counts\ttext_len\ttarget"
   ]
  },
  {
   "cell_type": "markdown",
   "metadata": {},
   "source": [
    "1. select business file "
   ]
  },
  {
   "cell_type": "code",
   "execution_count": 45,
   "metadata": {},
   "outputs": [],
   "source": [
    "data_directory = os.path.join('.','yelp_dataset')\n",
    "review_filepath = os.path.join(data_directory,'review.json')\n",
    "\n",
    "businesses_filepath = os.path.join(data_directory, 'business.json')"
   ]
  },
  {
   "cell_type": "code",
   "execution_count": 59,
   "metadata": {},
   "outputs": [],
   "source": [
    "# Convert business json file into Dataframe\n",
    "business_ids={}\n",
    "business_ids[\"business_id\"]=[]\n",
    "business_ids[\"attributes\"]=[]\n",
    "business_ids[\"categories\"]=[]\n",
    "business_ids[\"city\"]=[]\n",
    "business_ids[\"name\"]=[]\n",
    "business_ids[\"biz_stars\"]=[]\n",
    "business_ids[\"state\"]=[]\n",
    "\n",
    "with open(businesses_filepath) as f:\n",
    "    \n",
    "    for business_record in f:\n",
    "        business = json.loads(business_record)\n",
    "        \n",
    "        if not business.get('categories'):\n",
    "            continue\n",
    "        \n",
    "        if 'Restaurants' not in business['categories']:\n",
    "            continue\n",
    "            \n",
    "\n",
    "        business_ids[\"business_id\"].append(business['business_id'])\n",
    "        business_ids[\"attributes\"].append(business['attributes'])\n",
    "        business_ids[\"categories\"].append(business['categories'])\n",
    "        business_ids[\"city\"].append(business['city'])\n",
    "        business_ids[\"name\"].append(business['name'])\n",
    "        business_ids[\"biz_stars\"].append(business['stars'])\n",
    "        business_ids[\"state\"].append(business['state'])"
   ]
  },
  {
   "cell_type": "code",
   "execution_count": 75,
   "metadata": {
    "scrolled": true
   },
   "outputs": [],
   "source": [
    "business_df= pd.DataFrame(business_ids)"
   ]
  },
  {
   "cell_type": "code",
   "execution_count": 76,
   "metadata": {},
   "outputs": [],
   "source": [
    "# Convert reviews json file into Dataframe\n",
    "execute = False\n",
    "\n",
    "if execute:\n",
    "\n",
    "    reviews_ids={}\n",
    "    reviews_ids[\"business_id\"]=[]\n",
    "    reviews_ids[\"date\"]=[]\n",
    "    reviews_ids[\"review_stars\"]=[]\n",
    "    reviews_ids[\"text\"]=[]\n",
    "    reviews_ids[\"useful\"]=[]\n",
    "    review_count=0\n",
    "\n",
    "    with open(review_filepath) as f:\n",
    "\n",
    "        for reviews_record in f:\n",
    "            review = json.loads(reviews_record)\n",
    "\n",
    "            if review['business_id'] not in business_ids[\"business_id\"]:\n",
    "                continue\n",
    "\n",
    "\n",
    "            reviews_ids[\"business_id\"].append(review['business_id'])\n",
    "            reviews_ids[\"date\"].append(review['date'])\n",
    "            reviews_ids[\"review_stars\"].append(review['stars'])\n",
    "            reviews_ids[\"text\"].append(review['text'])\n",
    "            reviews_ids[\"useful\"].append(review['useful'])\n",
    "\n",
    "            review_count+=1"
   ]
  },
  {
   "cell_type": "code",
   "execution_count": 74,
   "metadata": {},
   "outputs": [],
   "source": [
    "reviews_df = pd.DataFrame(reviews_ids)"
   ]
  },
  {
   "cell_type": "code",
   "execution_count": 79,
   "metadata": {},
   "outputs": [],
   "source": [
    "with open(os.path.join(data_filepath,'reviews_df.pkl'), 'wb') as f:\n",
    "    pickle.dump(reviews_df, f)\n",
    "    \n",
    "with open(os.path.join(data_filepath,'business_df.pkl'), 'wb') as f:\n",
    "    pickle.dump(business_df, f)"
   ]
  },
  {
   "cell_type": "code",
   "execution_count": 107,
   "metadata": {},
   "outputs": [],
   "source": [
    "with open(os.path.join(data_filepath,'reviews_df.pkl'), 'rb') as f:\n",
    "    reviews_df = pickle.load(f)\n",
    "    \n",
    "with open(os.path.join(data_filepath,'business_df.pkl'), 'rb') as f:\n",
    "    business_df = pickle.load(f)"
   ]
  },
  {
   "cell_type": "code",
   "execution_count": 108,
   "metadata": {
    "scrolled": true
   },
   "outputs": [],
   "source": [
    "#Select only 10,000 reviews\n",
    "reviews_df = reviews_df[:10000]\n",
    "test_df = reviews_df[10001:11000]"
   ]
  },
  {
   "cell_type": "code",
   "execution_count": 109,
   "metadata": {},
   "outputs": [],
   "source": [
    "reviews_df = reviews_df.merge(business_df,on=\"business_id\",how=\"left\")"
   ]
  },
  {
   "cell_type": "code",
   "execution_count": 110,
   "metadata": {
    "scrolled": true
   },
   "outputs": [],
   "source": [
    "reviews_count_per_business = reviews_df.groupby(\"business_id\")[\"text\"].agg('count')\n",
    "reviews_count_per_business = reviews_count_per_business.rename('real_counts')"
   ]
  },
  {
   "cell_type": "code",
   "execution_count": 111,
   "metadata": {},
   "outputs": [],
   "source": [
    "reviews_df = reviews_df.merge(reviews_count_per_business,on=\"business_id\",how=\"left\")"
   ]
  },
  {
   "cell_type": "code",
   "execution_count": 114,
   "metadata": {},
   "outputs": [],
   "source": [
    "rev_train = reviews_df\n",
    "rev_test = test_df"
   ]
  },
  {
   "cell_type": "code",
   "execution_count": 115,
   "metadata": {},
   "outputs": [],
   "source": [
    "rev_train['text_len'] = rev_train['text'].apply(lambda x: len(x.split()))"
   ]
  },
  {
   "cell_type": "markdown",
   "metadata": {},
   "source": [
    "#### Review Length by Star Count Distribution"
   ]
  },
  {
   "cell_type": "code",
   "execution_count": 116,
   "metadata": {},
   "outputs": [
    {
     "data": {
      "image/png": "[encoded data removed]",
      "text/plain": [
       "<Figure size 720x576 with 1 Axes>"
      ]
     },
     "metadata": {
      "image/png": {
       "height": 478,
       "width": 631
      },
      "needs_background": "light"
     },
     "output_type": "display_data"
    }
   ],
   "source": [
    "plt.figure(figsize=(10,8))\n",
    "plt.rcParams.update({'font.size': 20})\n",
    "sns.boxplot(x = 'review_stars', y = 'text_len', data = rev_train)\n",
    "plt.ylabel('')\n",
    "plt.xlabel('');"
   ]
  },
  {
   "cell_type": "code",
   "execution_count": 117,
   "metadata": {},
   "outputs": [
    {
     "data": {
      "image/png": "[encoded data removed]",
      "text/plain": [
       "<Figure size 720x576 with 1 Axes>"
      ]
     },
     "metadata": {
      "image/png": {
       "height": 478,
       "width": 632
      },
      "needs_background": "light"
     },
     "output_type": "display_data"
    }
   ],
   "source": [
    "plt.figure(figsize=(10,8))\n",
    "plt.rcParams.update({'font.size': 20})\n",
    "sns.countplot('review_stars', data = rev_train)\n",
    "plt.ylabel('')\n",
    "plt.xlabel('');"
   ]
  },
  {
   "cell_type": "markdown",
   "metadata": {},
   "source": [
    "#### Get Rid of Neutral Stars and Code Positive and Negative as Binary"
   ]
  },
  {
   "cell_type": "code",
   "execution_count": 118,
   "metadata": {},
   "outputs": [],
   "source": [
    "rev_train = rev_train[rev_train.review_stars != 3.0]"
   ]
  },
  {
   "cell_type": "code",
   "execution_count": 119,
   "metadata": {},
   "outputs": [
    {
     "name": "stderr",
     "output_type": "stream",
     "text": [
      "/Users/tendulkar/anaconda3/lib/python3.7/site-packages/ipykernel_launcher.py:1: SettingWithCopyWarning: \n",
      "A value is trying to be set on a copy of a slice from a DataFrame.\n",
      "Try using .loc[row_indexer,col_indexer] = value instead\n",
      "\n",
      "See the caveats in the documentation: http://pandas.pydata.org/pandas-docs/stable/indexing.html#indexing-view-versus-copy\n",
      "  \"\"\"Entry point for launching an IPython kernel.\n"
     ]
    }
   ],
   "source": [
    "rev_train['target'] = rev_train.review_stars.apply(lambda x: 1 if x > 3 else 0)"
   ]
  },
  {
   "cell_type": "code",
   "execution_count": 120,
   "metadata": {},
   "outputs": [
    {
     "name": "stdout",
     "output_type": "stream",
     "text": [
      "8754\n",
      "2025\n"
     ]
    }
   ],
   "source": [
    "print(len(rev_train))\n",
    "mask = (rev_train['text'].str.len() > 50) & (rev_train['text'].str.len() < 200)\n",
    "rev_train = rev_train.loc[mask]\n",
    "print(len(rev_train))"
   ]
  },
  {
   "cell_type": "code",
   "execution_count": 121,
   "metadata": {},
   "outputs": [
    {
     "data": {
      "text/html": [
       "<div>\n",
       "<style scoped>\n",
       "    .dataframe tbody tr th:only-of-type {\n",
       "        vertical-align: middle;\n",
       "    }\n",
       "\n",
       "    .dataframe tbody tr th {\n",
       "        vertical-align: top;\n",
       "    }\n",
       "\n",
       "    .dataframe thead th {\n",
       "        text-align: right;\n",
       "    }\n",
       "</style>\n",
       "<table border=\"1\" class=\"dataframe\">\n",
       "  <thead>\n",
       "    <tr style=\"text-align: right;\">\n",
       "      <th></th>\n",
       "      <th>business_id</th>\n",
       "      <th>date</th>\n",
       "      <th>review_stars</th>\n",
       "      <th>text</th>\n",
       "      <th>useful</th>\n",
       "      <th>attributes</th>\n",
       "      <th>categories</th>\n",
       "      <th>city</th>\n",
       "      <th>name</th>\n",
       "      <th>biz_stars</th>\n",
       "      <th>state</th>\n",
       "      <th>real_counts</th>\n",
       "      <th>text_len</th>\n",
       "      <th>target</th>\n",
       "    </tr>\n",
       "  </thead>\n",
       "  <tbody>\n",
       "    <tr>\n",
       "      <th>9</th>\n",
       "      <td>d4qwVw4PcN-_2mK2o1Ro1g</td>\n",
       "      <td>2015-02-02 06:28:00</td>\n",
       "      <td>1.0</td>\n",
       "      <td>10pm on a super bowl Sunday and they're alread...</td>\n",
       "      <td>0</td>\n",
       "      <td>{'RestaurantsTakeOut': 'True', 'BusinessAccept...</td>\n",
       "      <td>Mexican, Restaurants</td>\n",
       "      <td>Las Vegas</td>\n",
       "      <td>Pink Taco</td>\n",
       "      <td>3.5</td>\n",
       "      <td>NV</td>\n",
       "      <td>28</td>\n",
       "      <td>19</td>\n",
       "      <td>0</td>\n",
       "    </tr>\n",
       "    <tr>\n",
       "      <th>12</th>\n",
       "      <td>d4qwVw4PcN-_2mK2o1Ro1g</td>\n",
       "      <td>2017-02-09 04:25:03</td>\n",
       "      <td>5.0</td>\n",
       "      <td>Holy heck this place is amazing. I love their ...</td>\n",
       "      <td>0</td>\n",
       "      <td>{'RestaurantsTakeOut': 'True', 'BusinessAccept...</td>\n",
       "      <td>Mexican, Restaurants</td>\n",
       "      <td>Las Vegas</td>\n",
       "      <td>Pink Taco</td>\n",
       "      <td>3.5</td>\n",
       "      <td>NV</td>\n",
       "      <td>28</td>\n",
       "      <td>24</td>\n",
       "      <td>1</td>\n",
       "    </tr>\n",
       "    <tr>\n",
       "      <th>16</th>\n",
       "      <td>d_q4avZYM1sOlQP7noJKVg</td>\n",
       "      <td>2018-04-15 11:13:11</td>\n",
       "      <td>4.0</td>\n",
       "      <td>Always a fun outing to come for great hot dogs...</td>\n",
       "      <td>0</td>\n",
       "      <td>{'GoodForKids': 'True', 'BusinessAcceptsCredit...</td>\n",
       "      <td>Mexican, Restaurants, Hot Dogs</td>\n",
       "      <td>Phoenix</td>\n",
       "      <td>El Güero Canelo</td>\n",
       "      <td>3.5</td>\n",
       "      <td>AZ</td>\n",
       "      <td>8</td>\n",
       "      <td>30</td>\n",
       "      <td>1</td>\n",
       "    </tr>\n",
       "    <tr>\n",
       "      <th>17</th>\n",
       "      <td>wkzWdo1mBqbzR2KPoXtWZw</td>\n",
       "      <td>2010-08-21 01:19:17</td>\n",
       "      <td>4.0</td>\n",
       "      <td>Was a Chicago style deep dish.  Homemade type ...</td>\n",
       "      <td>1</td>\n",
       "      <td>{'Caters': 'True', 'HasTV': 'True', 'Restauran...</td>\n",
       "      <td>Sandwiches, Chicken Wings, Pizza, Restaurants</td>\n",
       "      <td>Glendale</td>\n",
       "      <td>Vito's Pizza</td>\n",
       "      <td>4.0</td>\n",
       "      <td>AZ</td>\n",
       "      <td>3</td>\n",
       "      <td>26</td>\n",
       "      <td>1</td>\n",
       "    </tr>\n",
       "    <tr>\n",
       "      <th>18</th>\n",
       "      <td>r4HkiC71nB9k8Fe8zIORFQ</td>\n",
       "      <td>2015-12-05 02:16:06</td>\n",
       "      <td>5.0</td>\n",
       "      <td>First time eating there and everything was so ...</td>\n",
       "      <td>1</td>\n",
       "      <td>{'BikeParking': 'True', 'Alcohol': 'u'beer_and...</td>\n",
       "      <td>Italian, Restaurants, Food Delivery Services, ...</td>\n",
       "      <td>Goodyear</td>\n",
       "      <td>Sal's Tuscan Grill</td>\n",
       "      <td>4.0</td>\n",
       "      <td>AZ</td>\n",
       "      <td>5</td>\n",
       "      <td>34</td>\n",
       "      <td>1</td>\n",
       "    </tr>\n",
       "  </tbody>\n",
       "</table>\n",
       "</div>"
      ],
      "text/plain": [
       "               business_id                 date  review_stars  \\\n",
       "9   d4qwVw4PcN-_2mK2o1Ro1g  2015-02-02 06:28:00           1.0   \n",
       "12  d4qwVw4PcN-_2mK2o1Ro1g  2017-02-09 04:25:03           5.0   \n",
       "16  d_q4avZYM1sOlQP7noJKVg  2018-04-15 11:13:11           4.0   \n",
       "17  wkzWdo1mBqbzR2KPoXtWZw  2010-08-21 01:19:17           4.0   \n",
       "18  r4HkiC71nB9k8Fe8zIORFQ  2015-12-05 02:16:06           5.0   \n",
       "\n",
       "                                                 text  useful  \\\n",
       "9   10pm on a super bowl Sunday and they're alread...       0   \n",
       "12  Holy heck this place is amazing. I love their ...       0   \n",
       "16  Always a fun outing to come for great hot dogs...       0   \n",
       "17  Was a Chicago style deep dish.  Homemade type ...       1   \n",
       "18  First time eating there and everything was so ...       1   \n",
       "\n",
       "                                           attributes  \\\n",
       "9   {'RestaurantsTakeOut': 'True', 'BusinessAccept...   \n",
       "12  {'RestaurantsTakeOut': 'True', 'BusinessAccept...   \n",
       "16  {'GoodForKids': 'True', 'BusinessAcceptsCredit...   \n",
       "17  {'Caters': 'True', 'HasTV': 'True', 'Restauran...   \n",
       "18  {'BikeParking': 'True', 'Alcohol': 'u'beer_and...   \n",
       "\n",
       "                                           categories       city  \\\n",
       "9                                Mexican, Restaurants  Las Vegas   \n",
       "12                               Mexican, Restaurants  Las Vegas   \n",
       "16                     Mexican, Restaurants, Hot Dogs    Phoenix   \n",
       "17      Sandwiches, Chicken Wings, Pizza, Restaurants   Glendale   \n",
       "18  Italian, Restaurants, Food Delivery Services, ...   Goodyear   \n",
       "\n",
       "                  name  biz_stars state  real_counts  text_len  target  \n",
       "9            Pink Taco        3.5    NV           28        19       0  \n",
       "12           Pink Taco        3.5    NV           28        24       1  \n",
       "16     El Güero Canelo        3.5    AZ            8        30       1  \n",
       "17        Vito's Pizza        4.0    AZ            3        26       1  \n",
       "18  Sal's Tuscan Grill        4.0    AZ            5        34       1  "
      ]
     },
     "execution_count": 121,
     "metadata": {},
     "output_type": "execute_result"
    }
   ],
   "source": [
    "rev_train.head()"
   ]
  },
  {
   "cell_type": "markdown",
   "metadata": {},
   "source": [
    "#### Prep Review Text for LDA"
   ]
  },
  {
   "cell_type": "code",
   "execution_count": 122,
   "metadata": {},
   "outputs": [],
   "source": [
    "from nltk.corpus import stopwords\n",
    "stop_words = stopwords.words('english')\n",
    "stop_words.extend(['come','order','try','go','get','make','drink','plate','dish','restaurant','place',\n",
    "                  'would','really','like','great','service','came','got'])"
   ]
  },
  {
   "cell_type": "code",
   "execution_count": 123,
   "metadata": {},
   "outputs": [],
   "source": [
    "nlp = spacy.load('en_core_web_sm', disable=['parser', 'ner'])"
   ]
  },
  {
   "cell_type": "code",
   "execution_count": 124,
   "metadata": {},
   "outputs": [],
   "source": [
    "def strip_newline(series):\n",
    "    return [review.replace('\\n','') for review in series]\n",
    "\n",
    "def sent_to_words(sentences):\n",
    "    for sentence in sentences:\n",
    "        yield(gensim.utils.simple_preprocess(str(sentence), deacc=True))\n",
    "        \n",
    "def remove_stopwords(texts):\n",
    "    return [[word for word in simple_preprocess(str(doc)) if word not in stop_words] for doc in texts]"
   ]
  },
  {
   "cell_type": "code",
   "execution_count": 125,
   "metadata": {},
   "outputs": [],
   "source": [
    "def bigrams(words, bi_min=15, tri_min=10):\n",
    "    bigram = gensim.models.Phrases(words, min_count = bi_min)\n",
    "    bigram_mod = gensim.models.phrases.Phraser(bigram)\n",
    "    return bigram_mod"
   ]
  },
  {
   "cell_type": "code",
   "execution_count": 126,
   "metadata": {},
   "outputs": [],
   "source": [
    "def get_corpus(df):\n",
    "    \"\"\"\n",
    "    Get Bigram Model, Corpus, id2word mapping\n",
    "    \"\"\"\n",
    "    \n",
    "    df['text'] = strip_newline(df.text)\n",
    "    words = list(sent_to_words(df.text))\n",
    "    words = remove_stopwords(words)\n",
    "    bigram = bigrams(words)\n",
    "    bigram = [bigram[review] for review in words]\n",
    "#     lemma = lemmatization(bigram)\n",
    "    id2word = gensim.corpora.Dictionary(bigram)\n",
    "    id2word.filter_extremes(no_below=10, no_above=0.35)\n",
    "    id2word.compactify()\n",
    "    corpus = [id2word.doc2bow(text) for text in bigram]\n",
    "    return corpus, id2word, bigram"
   ]
  },
  {
   "cell_type": "code",
   "execution_count": 127,
   "metadata": {},
   "outputs": [],
   "source": [
    "train_corpus4, train_id2word4, bigram_train4 = get_corpus(rev_train)"
   ]
  },
  {
   "cell_type": "code",
   "execution_count": 128,
   "metadata": {},
   "outputs": [
    {
     "data": {
      "text/plain": [
       "['pm',\n",
       " 'super',\n",
       " 'bowl',\n",
       " 'sunday',\n",
       " 'already',\n",
       " 'closed',\n",
       " 'weak',\n",
       " 'wonder',\n",
       " 'hard',\n",
       " 'rock',\n",
       " 'dying']"
      ]
     },
     "execution_count": 128,
     "metadata": {},
     "output_type": "execute_result"
    }
   ],
   "source": [
    "bigram_train4[0]"
   ]
  },
  {
   "cell_type": "code",
   "execution_count": 129,
   "metadata": {},
   "outputs": [],
   "source": [
    "with open(os.path.join(data_filepath,'train_corpus4.pkl'), 'wb') as f:\n",
    "    pickle.dump(train_corpus4, f)\n",
    "with open(os.path.join(data_filepath,'train_id2word4.pkl'), 'wb') as f:\n",
    "    pickle.dump(train_id2word4, f)\n",
    "with open(os.path.join(data_filepath,'bigram_train4.pkl'), 'wb') as f:\n",
    "    pickle.dump(bigram_train4, f)\n",
    "# with open('lemma_train.pkl', 'wb') as f:\n",
    "#     pickle.dump(lemma_train, f)"
   ]
  },
  {
   "cell_type": "code",
   "execution_count": 130,
   "metadata": {},
   "outputs": [],
   "source": [
    "# make sure importing right model\n",
    "lda_train4 = gensim.models.ldamulticore.LdaMulticore.load('lda_train4.model')"
   ]
  },
  {
   "cell_type": "code",
   "execution_count": 131,
   "metadata": {},
   "outputs": [],
   "source": [
    "with open(os.path.join(data_filepath,'train_corpus4.pkl'), 'rb') as f:\n",
    "    train_corpus4 = pickle.load(f)\n",
    "with open(os.path.join(data_filepath,'train_id2word4.pkl'), 'rb') as f:\n",
    "    train_id2word4 = pickle.load(f)\n",
    "with open(os.path.join(data_filepath,'bigram_train4.pkl'), 'rb') as f:\n",
    "    bigram_train4 = pickle.load(f)\n",
    "# with open('lemma_train.pkl', 'rb') as f:\n",
    "#     lemma_train = pickle.load(f)"
   ]
  },
  {
   "cell_type": "markdown",
   "metadata": {},
   "source": [
    "#### LDA Model in Gensim"
   ]
  },
  {
   "cell_type": "code",
   "execution_count": 132,
   "metadata": {},
   "outputs": [],
   "source": [
    "import logging\n",
    "logging.basicConfig(filename='lda_model.log', format='%(asctime)s : %(levelname)s : %(message)s', level=logging.INFO)\n",
    "\n",
    "with warnings.catch_warnings():\n",
    "    warnings.simplefilter('ignore')\n",
    "    lda_train4 = gensim.models.ldamulticore.LdaMulticore(\n",
    "                           corpus=train_corpus4,\n",
    "                           num_topics=20,\n",
    "                           id2word=train_id2word4,\n",
    "                           chunksize=100,\n",
    "                           workers=7, # Num. Processing Cores - 1\n",
    "                           passes=50,\n",
    "                           eval_every = 1,\n",
    "                           per_word_topics=True)\n",
    "    lda_train4.save('lda_train4.model')"
   ]
  },
  {
   "cell_type": "markdown",
   "metadata": {},
   "source": [
    "#### Example of Topics"
   ]
  },
  {
   "cell_type": "code",
   "execution_count": 133,
   "metadata": {
    "scrolled": true
   },
   "outputs": [
    {
     "data": {
      "text/plain": [
       "[(0,\n",
       "  '0.175*\"pizza\" + 0.051*\"taste\" + 0.047*\"good\" + 0.045*\"cheese\" + 0.035*\"delivery\" + 0.031*\"thing\" + 0.029*\"recommended\" + 0.028*\"la\" + 0.025*\"bad\" + 0.023*\"beer\" + 0.023*\"ordered\" + 0.022*\"think\" + 0.020*\"also\" + 0.019*\"fan\" + 0.019*\"highly\"'),\n",
       " (1,\n",
       "  '0.056*\"price\" + 0.046*\"pho\" + 0.043*\"well\" + 0.042*\"beef\" + 0.038*\"worth\" + 0.037*\"soup\" + 0.034*\"bbq\" + 0.034*\"awesome\" + 0.033*\"pork\" + 0.032*\"visit\" + 0.031*\"rice\" + 0.029*\"love\" + 0.028*\"korean\" + 0.026*\"delicious\" + 0.023*\"noodles\"'),\n",
       " (2,\n",
       "  '0.087*\"good\" + 0.082*\"nice\" + 0.068*\"people\" + 0.053*\"wings\" + 0.050*\"prices\" + 0.031*\"ice_cream\" + 0.031*\"back\" + 0.026*\"lot\" + 0.024*\"decor\" + 0.024*\"average\" + 0.022*\"thai\" + 0.022*\"nothing\" + 0.020*\"friendly\" + 0.020*\"bar\" + 0.018*\"want\"'),\n",
       " (3,\n",
       "  '0.267*\"best\" + 0.111*\"ever\" + 0.038*\"town\" + 0.036*\"far\" + 0.035*\"amazing\" + 0.029*\"one_best\" + 0.025*\"fun\" + 0.020*\"hands\" + 0.018*\"atmosphere\" + 0.018*\"style\" + 0.017*\"wow\" + 0.017*\"say\" + 0.015*\"mexican\" + 0.015*\"first\" + 0.014*\"vegas\"'),\n",
       " (4,\n",
       "  '0.089*\"better\" + 0.070*\"time\" + 0.065*\"fantastic\" + 0.054*\"much\" + 0.050*\"even\" + 0.036*\"took\" + 0.034*\"worst\" + 0.031*\"us\" + 0.028*\"money\" + 0.021*\"see\" + 0.021*\"long\" + 0.021*\"loved\" + 0.021*\"next\" + 0.018*\"awesome\" + 0.018*\"eating\"'),\n",
       " (5,\n",
       "  '0.085*\"drinks\" + 0.054*\"definitely_back\" + 0.051*\"bar\" + 0.037*\"way\" + 0.035*\"burgers\" + 0.033*\"away\" + 0.033*\"burrito\" + 0.032*\"happy_hour\" + 0.031*\"ok\" + 0.029*\"good\" + 0.028*\"small\" + 0.027*\"lobster\" + 0.027*\"though\" + 0.023*\"bland\" + 0.022*\"italian\"'),\n",
       " (6,\n",
       "  '0.097*\"spot\" + 0.081*\"recommend\" + 0.067*\"menu\" + 0.047*\"amazing\" + 0.039*\"sandwich\" + 0.039*\"good\" + 0.038*\"sandwiches\" + 0.031*\"bread\" + 0.029*\"wine\" + 0.027*\"items\" + 0.026*\"selection\" + 0.025*\"large\" + 0.024*\"definitely\" + 0.024*\"variety\" + 0.021*\"portions\"'),\n",
       " (7,\n",
       "  '0.083*\"never\" + 0.082*\"delicious\" + 0.053*\"wait\" + 0.042*\"staff\" + 0.029*\"reasonable\" + 0.025*\"friendly\" + 0.025*\"awesome\" + 0.023*\"curry\" + 0.021*\"family\" + 0.019*\"worth\" + 0.019*\"prices\" + 0.019*\"wife\" + 0.018*\"point\" + 0.017*\"portions\" + 0.016*\"drive\"'),\n",
       " (8,\n",
       "  '0.064*\"highly_recommend\" + 0.058*\"wonderful\" + 0.051*\"server\" + 0.044*\"steak\" + 0.041*\"nice\" + 0.039*\"shrimp\" + 0.035*\"outside\" + 0.035*\"attentive\" + 0.033*\"inside\" + 0.029*\"priced\" + 0.028*\"experience\" + 0.025*\"dining\" + 0.024*\"ambiance\" + 0.024*\"excellent\" + 0.023*\"amazing\"'),\n",
       " (9,\n",
       "  '0.065*\"every\" + 0.052*\"eat\" + 0.050*\"day\" + 0.043*\"music\" + 0.042*\"amazing\" + 0.041*\"wrong\" + 0.041*\"excellent\" + 0.036*\"nice\" + 0.035*\"environment\" + 0.034*\"week\" + 0.031*\"awesome\" + 0.027*\"menu\" + 0.024*\"huge\" + 0.023*\"thanks\" + 0.020*\"least\"')]"
      ]
     },
     "execution_count": 133,
     "metadata": {},
     "output_type": "execute_result"
    }
   ],
   "source": [
    "lda_train4.print_topics(20,num_words=15)[:10]"
   ]
  },
  {
   "cell_type": "markdown",
   "metadata": {},
   "source": [
    "### Make Vectors"
   ]
  },
  {
   "cell_type": "code",
   "execution_count": 134,
   "metadata": {},
   "outputs": [],
   "source": [
    "train_vecs = []\n",
    "for i in range(len(rev_train)):\n",
    "    top_topics = lda_train4.get_document_topics(train_corpus4[i], minimum_probability=0.0)\n",
    "    topic_vec = [top_topics[i][1] for i in range(20)]\n",
    "    topic_vec.extend([rev_train.iloc[i].real_counts]) # counts of reviews for restaurant\n",
    "    topic_vec.extend([len(rev_train.iloc[i].text)]) # length review\n",
    "    train_vecs.append(topic_vec)"
   ]
  },
  {
   "cell_type": "code",
   "execution_count": 135,
   "metadata": {},
   "outputs": [
    {
     "data": {
      "text/plain": [
       "[0.005000157,\n",
       " 0.005000157,\n",
       " 0.005000157,\n",
       " 0.2153789,\n",
       " 0.294614,\n",
       " 0.005000157,\n",
       " 0.005000157,\n",
       " 0.005000157,\n",
       " 0.005000157,\n",
       " 0.005000157,\n",
       " 0.105001874,\n",
       " 0.0050001577,\n",
       " 0.11022874,\n",
       " 0.005000157,\n",
       " 0.005000157,\n",
       " 0.005000157,\n",
       " 0.005000157,\n",
       " 0.19977412,\n",
       " 0.005000157,\n",
       " 0.005000157,\n",
       " 8,\n",
       " 146]"
      ]
     },
     "execution_count": 135,
     "metadata": {},
     "output_type": "execute_result"
    }
   ],
   "source": [
    "train_vecs[2]"
   ]
  },
  {
   "cell_type": "markdown",
   "metadata": {},
   "source": [
    "#### Sklearn"
   ]
  },
  {
   "cell_type": "code",
   "execution_count": 136,
   "metadata": {},
   "outputs": [],
   "source": [
    "X = np.array(train_vecs)"
   ]
  },
  {
   "cell_type": "code",
   "execution_count": 137,
   "metadata": {},
   "outputs": [],
   "source": [
    "y = np.array(rev_train.target)"
   ]
  },
  {
   "cell_type": "code",
   "execution_count": 138,
   "metadata": {},
   "outputs": [],
   "source": [
    "with open('y.pkl', 'wb') as f:\n",
    "    pickle.dump(y, f)\n"
   ]
  },
  {
   "cell_type": "code",
   "execution_count": 139,
   "metadata": {},
   "outputs": [],
   "source": [
    "with open('X.pkl', 'wb') as f:\n",
    "    pickle.dump(X, f)"
   ]
  },
  {
   "cell_type": "markdown",
   "metadata": {},
   "source": [
    "#### Final 5-fold CV"
   ]
  },
  {
   "cell_type": "code",
   "execution_count": 141,
   "metadata": {},
   "outputs": [
    {
     "name": "stdout",
     "output_type": "stream",
     "text": [
      "Logistic Regression Val f1: 0.798 +- 0.013\n",
      "Logisitic Regression SGD Val f1: 0.755 +- 0.077\n",
      "SVM Huber Val f1: 0.546 +- 0.446\n"
     ]
    },
    {
     "name": "stderr",
     "output_type": "stream",
     "text": [
      "/Users/tendulkar/anaconda3/lib/python3.7/site-packages/sklearn/metrics/classification.py:1143: UndefinedMetricWarning: F-score is ill-defined and being set to 0.0 due to no predicted samples.\n",
      "  'precision', 'predicted', average, warn_for)\n",
      "/Users/tendulkar/anaconda3/lib/python3.7/site-packages/sklearn/metrics/classification.py:1143: UndefinedMetricWarning: F-score is ill-defined and being set to 0.0 due to no predicted samples.\n",
      "  'precision', 'predicted', average, warn_for)\n"
     ]
    }
   ],
   "source": [
    "kf = KFold(5, shuffle=True, random_state=42)\n",
    "cv_lr_f1, cv_lrsgd_f1, cv_svcsgd_f1,  = [], [], []\n",
    "\n",
    "for train_ind, val_ind in kf.split(X, y):\n",
    "    # Assign CV IDX\n",
    "    X_train, y_train = X[train_ind], y[train_ind]\n",
    "    X_val, y_val = X[val_ind], y[val_ind]\n",
    "    \n",
    "    # Scale Data\n",
    "    scaler = StandardScaler()\n",
    "    X_train_scale = scaler.fit_transform(X_train)\n",
    "    X_val_scale = scaler.transform(X_val)\n",
    "\n",
    "    # Logisitic Regression\n",
    "    lr = LogisticRegression(\n",
    "        class_weight= 'balanced',\n",
    "        solver='newton-cg',\n",
    "        fit_intercept=True\n",
    "    ).fit(X_train_scale, y_train)\n",
    "\n",
    "    y_pred = lr.predict(X_val_scale)\n",
    "    cv_lr_f1.append(f1_score(y_val, y_pred, average='binary'))\n",
    "    \n",
    "    # Logistic Regression Mini-Batch SGD\n",
    "    sgd = linear_model.SGDClassifier(\n",
    "        max_iter=1000,\n",
    "        tol=1e-3,\n",
    "        loss='log',\n",
    "        class_weight='balanced'\n",
    "    ).fit(X_train_scale, y_train)\n",
    "    \n",
    "    y_pred = sgd.predict(X_val_scale)\n",
    "    cv_lrsgd_f1.append(f1_score(y_val, y_pred, average='binary'))\n",
    "    \n",
    "    # SGD Modified Huber\n",
    "    sgd_huber = linear_model.SGDClassifier(\n",
    "        max_iter=1000,\n",
    "        tol=1e-3,\n",
    "        alpha=20,\n",
    "        loss='modified_huber',\n",
    "        class_weight='balanced'\n",
    "    ).fit(X_train_scale, y_train)\n",
    "    \n",
    "    y_pred = sgd_huber.predict(X_val_scale)\n",
    "    cv_svcsgd_f1.append(f1_score(y_val, y_pred, average='binary'))\n",
    "\n",
    "print(f'Logistic Regression Val f1: {np.mean(cv_lr_f1):.3f} +- {np.std(cv_lr_f1):.3f}')\n",
    "print(f'Logisitic Regression SGD Val f1: {np.mean(cv_lrsgd_f1):.3f} +- {np.std(cv_lrsgd_f1):.3f}')\n",
    "print(f'SVM Huber Val f1: {np.mean(cv_svcsgd_f1):.3f} +- {np.std(cv_svcsgd_f1):.3f}')"
   ]
  },
  {
   "cell_type": "code",
   "execution_count": null,
   "metadata": {},
   "outputs": [],
   "source": []
  }
 ],
 "metadata": {
  "kernelspec": {
   "display_name": "Python 3",
   "language": "python",
   "name": "python3"
  },
  "language_info": {
   "codemirror_mode": {
    "name": "ipython",
    "version": 3
   },
   "file_extension": ".py",
   "mimetype": "text/x-python",
   "name": "python",
   "nbconvert_exporter": "python",
   "pygments_lexer": "ipython3",
   "version": "3.7.3"
  }
 },
 "nbformat": 4,
 "nbformat_minor": 2
}
